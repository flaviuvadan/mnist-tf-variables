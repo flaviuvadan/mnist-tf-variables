{
 "cells": [
  {
   "cell_type": "markdown",
   "metadata": {
    "colab_type": "text",
    "id": "ne79dfdBjhEt"
   },
   "source": [
    "The default tensorflow version on Colab is still 1.*x* but we can request to use TensorFlow 2.*x*"
   ]
  },
  {
   "cell_type": "code",
   "execution_count": 0,
   "metadata": {
    "colab": {},
    "colab_type": "code",
    "id": "v7EeMVTghwlI"
   },
   "outputs": [],
   "source": [
    "%tensorflow_version 2.x\n",
    "\n",
    "from datetime import datetime\n",
    "\n",
    "from google.colab import files\n",
    "import matplotlib.pyplot as plt\n",
    "import numpy as np\n",
    "import random\n",
    "import tensorflow as tf \n",
    "\n",
    "assert(tf.__version__ == \"2.1.0\")"
   ]
  },
  {
   "cell_type": "markdown",
   "metadata": {
    "colab_type": "text",
    "id": "WRoQiMCLjvgx"
   },
   "source": [
    "We're going to attempt to classify the MNIST fashion dataset, which we can load from a Google Cloud bucket using `tf.keras.datasets.fashion_mnist.load_data()`"
   ]
  },
  {
   "cell_type": "code",
   "execution_count": 4,
   "metadata": {
    "colab": {
     "base_uri": "https://localhost:8080/",
     "height": 150
    },
    "colab_type": "code",
    "id": "wqd3nf6Kj0S0",
    "outputId": "d8aa4f40-0943-4647-e9a8-8d91e7d5b487"
   },
   "outputs": [
    {
     "name": "stdout",
     "output_type": "stream",
     "text": [
      "Downloading data from https://storage.googleapis.com/tensorflow/tf-keras-datasets/train-labels-idx1-ubyte.gz\n",
      "32768/29515 [=================================] - 0s 0us/step\n",
      "Downloading data from https://storage.googleapis.com/tensorflow/tf-keras-datasets/train-images-idx3-ubyte.gz\n",
      "26427392/26421880 [==============================] - 0s 0us/step\n",
      "Downloading data from https://storage.googleapis.com/tensorflow/tf-keras-datasets/t10k-labels-idx1-ubyte.gz\n",
      "8192/5148 [===============================================] - 0s 0us/step\n",
      "Downloading data from https://storage.googleapis.com/tensorflow/tf-keras-datasets/t10k-images-idx3-ubyte.gz\n",
      "4423680/4422102 [==============================] - 0s 0us/step\n"
     ]
    }
   ],
   "source": [
    "fashion = tf.keras.datasets.fashion_mnist\n",
    "\n",
    "(x_train, y_train), (x_test, y_test) = fashion.load_data()\n",
    "x_train, x_test = x_train / 255.0, x_test / 255.0"
   ]
  },
  {
   "cell_type": "markdown",
   "metadata": {
    "colab_type": "text",
    "id": "MRKQ05gSk_8m"
   },
   "source": [
    "It's nice to define constants at the top of the file, so let's do that here and maintain this as the source of truth for global/notebook constants\n",
    "\n",
    "---\n",
    "\n"
   ]
  },
  {
   "cell_type": "code",
   "execution_count": 0,
   "metadata": {
    "colab": {},
    "colab_type": "code",
    "id": "UTQ3X47plEAs"
   },
   "outputs": [],
   "source": [
    "LEAKY_RELU_ALPHA = 0.2\n",
    "DROPOUT_RATE = 0.1\n",
    "LEARNING_RATE = 1e-3\n",
    "NUM_EPOCHS = 50\n",
    "SIG_DIGITS = 5"
   ]
  },
  {
   "cell_type": "markdown",
   "metadata": {
    "colab_type": "text",
    "id": "xjVFPtbSkL-H"
   },
   "source": [
    "Since we are not going to use Keras in this implementation, we have to define our own layers using `tf.nn`. The general approach is:\n",
    "\n",
    "1. Flatten the input from a 28 x 28 matrix to a 784 x 1 vector\n",
    "1. Implement a dense, fully connected, layer of nodes that multiplies the inputs by the weights\n",
    "1. Design a dense, fully connected, dropout layer as a regularization approach\n",
    "1. Make the output of the network be a softmax over a dense layer"
   ]
  },
  {
   "cell_type": "code",
   "execution_count": 0,
   "metadata": {
    "colab": {},
    "colab_type": "code",
    "id": "REiS001hkRvZ"
   },
   "outputs": [],
   "source": [
    "@tf.function\n",
    "def flatten(inputs):\n",
    "  \"\"\" \n",
    "  A flattening layer that transforms a given input to the shape of \n",
    "  :param inputs: input of the layer\n",
    "  \"\"\"\n",
    "  return tf.keras.backend.flatten(inputs)\n",
    "\n",
    "@tf.function\n",
    "def dense(inputs, weights):\n",
    "  \"\"\" \n",
    "  A dense layer that represents a typical network layer of a neural network. Meant to replace \n",
    "  tf.keras.Dense\n",
    "  :param inputs: input of the layer, transpose has to match the shape of the weights\n",
    "  :param weights: weights of the current layer\n",
    "  :return: sigmoid activations\n",
    "  \"\"\"\n",
    "  mult = tf.matmul([inputs], weights)\n",
    "  return tf.nn.sigmoid(mult)\n",
    "\n",
    "@tf.function\n",
    "def dropout(inputs, weights):\n",
    "    \"\"\" \n",
    "    A droput layer that represents a typical network layer in a neural network. Meant to replace \n",
    "    tf.keras.Dropout\n",
    "    :param inputs: input of the layer, transpose has to match the shape of the weights\n",
    "    :param weights: weights of the current layer\n",
    "    :return: tf.nn function\n",
    "    \"\"\"\n",
    "    mult = tf.matmul(inputs, weights)\n",
    "    x = tf.nn.leaky_relu(mult, alpha=LEAKY_RELU_ALPHA)\n",
    "    return tf.nn.dropout(x, rate=DROPOUT_RATE)\n",
    "\n",
    "@tf.function\n",
    "def softmax(inputs, weights):\n",
    "  \"\"\"\n",
    "  A softmax layer that represents the output layer of the network built in this notebook. It is \n",
    "  supposed to replace tf.keras.dense with softmax\n",
    "  :param inputs: the inputs of the layer\n",
    "  :param weights: weights of the current layer\n",
    "  :return: softmax vector\n",
    "  \"\"\"\n",
    "  mult = tf.matmul(inputs, weights)\n",
    "  return tf.nn.softmax(mult)"
   ]
  },
  {
   "cell_type": "markdown",
   "metadata": {
    "colab_type": "text",
    "id": "s1mt9iYY8TUp"
   },
   "source": [
    "Now that we have defined the types of layers, we have to initialize all the variables of the model. Namely, we have to initialize the weights as TensorFlow trainable variables. In addition, we need the shapes of the input and output for the respective layers. Notice that we have to use matrix multiplication compatible layer (columns have to match number of rows) shapes. "
   ]
  },
  {
   "cell_type": "code",
   "execution_count": 0,
   "metadata": {
    "colab": {},
    "colab_type": "code",
    "id": "O-nnsWqV8bmu"
   },
   "outputs": [],
   "source": [
    "shapes = [\n",
    "    [784, 32],  # flattened pictures from 28x28 to 784, dense layer of 32 nodes with 32 output activations\n",
    "    [32, 32],  # dropout layer of 32 nodes, output of 32 activations\n",
    "    [32, 10]  # softmax output layer of 10 nodes, 1 for each category\n",
    "]\n",
    "\n",
    "# Initialization of weights from a standard normal\n",
    "initializer = tf.random_normal_initializer()\n",
    "def get_weight(shape, name):\n",
    "    \"\"\" Creates and returns a TensorFlow variable with the given shape and name \"\"\"\n",
    "    return tf.Variable(initializer(shape=shape), name=name, trainable=True, dtype=tf.float32)\n",
    "\n",
    "# Array of weights that represent the weights of the network\n",
    "weights = []\n",
    "for i in range(len(shapes)):\n",
    "    weights.append(get_weight(shapes[i], 'weight_{}'.format(i)))"
   ]
  },
  {
   "cell_type": "markdown",
   "metadata": {
    "colab_type": "text",
    "id": "1XRpZJCM_L7I"
   },
   "source": [
    "Now that we have the components ready, we can create a model. In this case, the model is just a linear pass through the layer functions (flatten, dense, dropout/dense, softmax)"
   ]
  },
  {
   "cell_type": "code",
   "execution_count": 0,
   "metadata": {
    "colab": {},
    "colab_type": "code",
    "id": "g8wy6Vug_Owf"
   },
   "outputs": [],
   "source": [
    "def model(x):\n",
    "    \"\"\" Model represents the network create from the above-defined components. It performs a \n",
    "    single forward pass using the input x and returns the last layer's output \"\"\"\n",
    "    r = flatten(x)\n",
    "    r = tf.cast(r, dtype=tf.float32)\n",
    "    r = dense(r, weights[0])\n",
    "    r = dropout(r, weights[1])\n",
    "    r = softmax(r, weights[2])\n",
    "    return r"
   ]
  },
  {
   "cell_type": "markdown",
   "metadata": {
    "colab_type": "text",
    "id": "6E-XyXTzAS--"
   },
   "source": [
    "We also need to define the function that defines the model loss, which is the function the model is trying to minimize. In this case, we will use sparse categorical cross-entropy"
   ]
  },
  {
   "cell_type": "code",
   "execution_count": 0,
   "metadata": {
    "colab": {},
    "colab_type": "code",
    "id": "GNAGUwBRAbBa"
   },
   "outputs": [],
   "source": [
    "def loss(pred, target):\n",
    "    \"\"\" Loss function that measures the different between predicted and target using categorical\n",
    "    cross-entropy. This is what the model is trying to minimize  \"\"\"\n",
    "    # SCC assumes the predicted encodes a probability distribution (in our case, from softmax) \n",
    "    return tf.losses.sparse_categorical_crossentropy(target, pred)"
   ]
  },
  {
   "cell_type": "markdown",
   "metadata": {
    "colab_type": "text",
    "id": "ftOnnGfJA_qC"
   },
   "source": [
    "Now we are ready to define the training step function, which taken an input, passes it through the network, obtains the loss, and applies the gradients. In addition, we will keep track of the epoch training and validation accuracy along with training and validation loss"
   ]
  },
  {
   "cell_type": "code",
   "execution_count": 10,
   "metadata": {
    "colab": {
     "base_uri": "https://localhost:8080/",
     "height": 1000
    },
    "colab_type": "code",
    "id": "uF6SeKIbBBHA",
    "outputId": "f01a4dd2-6eac-46f3-902b-8f5b7e5b03c0"
   },
   "outputs": [
    {
     "name": "stdout",
     "output_type": "stream",
     "text": [
      "Epoch: 1/50\n",
      "Test acc: 0.7967\t\tTest loss: 0.55358\t\tValid acc: 0.8343\t\tValid loss: 0.466\n",
      "Epoch: 2/50\n",
      "Test acc: 0.84368\t\tTest loss: 0.43656\t\tValid acc: 0.8302\t\tValid loss: 0.4775\n",
      "Epoch: 3/50\n",
      "Test acc: 0.85492\t\tTest loss: 0.40598\t\tValid acc: 0.8475\t\tValid loss: 0.42913\n",
      "Epoch: 4/50\n",
      "Test acc: 0.8599\t\tTest loss: 0.38935\t\tValid acc: 0.845\t\tValid loss: 0.42587\n",
      "Epoch: 5/50\n",
      "Test acc: 0.8646\t\tTest loss: 0.37522\t\tValid acc: 0.8519\t\tValid loss: 0.42811\n",
      "Epoch: 6/50\n",
      "Test acc: 0.86812\t\tTest loss: 0.36478\t\tValid acc: 0.8487\t\tValid loss: 0.43\n",
      "Epoch: 7/50\n",
      "Test acc: 0.86995\t\tTest loss: 0.359\t\tValid acc: 0.8464\t\tValid loss: 0.45214\n",
      "Epoch: 8/50\n",
      "Test acc: 0.87277\t\tTest loss: 0.35072\t\tValid acc: 0.8402\t\tValid loss: 0.4678\n",
      "Epoch: 9/50\n",
      "Test acc: 0.87607\t\tTest loss: 0.34384\t\tValid acc: 0.8529\t\tValid loss: 0.43373\n",
      "Epoch: 10/50\n",
      "Test acc: 0.87708\t\tTest loss: 0.34125\t\tValid acc: 0.857\t\tValid loss: 0.41739\n",
      "Epoch: 11/50\n",
      "Test acc: 0.8777\t\tTest loss: 0.3397\t\tValid acc: 0.8484\t\tValid loss: 0.44702\n",
      "Epoch: 12/50\n",
      "Test acc: 0.8812\t\tTest loss: 0.33207\t\tValid acc: 0.8538\t\tValid loss: 0.43728\n",
      "Epoch: 13/50\n",
      "Test acc: 0.88023\t\tTest loss: 0.32863\t\tValid acc: 0.8532\t\tValid loss: 0.44229\n",
      "Epoch: 14/50\n",
      "Test acc: 0.88122\t\tTest loss: 0.32716\t\tValid acc: 0.855\t\tValid loss: 0.43159\n",
      "Epoch: 15/50\n",
      "Test acc: 0.8823\t\tTest loss: 0.32366\t\tValid acc: 0.8511\t\tValid loss: 0.45794\n",
      "Epoch: 16/50\n",
      "Test acc: 0.88287\t\tTest loss: 0.32063\t\tValid acc: 0.8558\t\tValid loss: 0.42483\n",
      "Epoch: 17/50\n",
      "Test acc: 0.88458\t\tTest loss: 0.31715\t\tValid acc: 0.8488\t\tValid loss: 0.44667\n",
      "Epoch: 18/50\n",
      "Test acc: 0.88612\t\tTest loss: 0.31487\t\tValid acc: 0.8552\t\tValid loss: 0.43932\n",
      "Epoch: 19/50\n",
      "Test acc: 0.8875\t\tTest loss: 0.30988\t\tValid acc: 0.8448\t\tValid loss: 0.46405\n",
      "Epoch: 20/50\n",
      "Test acc: 0.88903\t\tTest loss: 0.30845\t\tValid acc: 0.852\t\tValid loss: 0.44258\n",
      "Epoch: 21/50\n",
      "Test acc: 0.88903\t\tTest loss: 0.30676\t\tValid acc: 0.8608\t\tValid loss: 0.41665\n",
      "Epoch: 22/50\n",
      "Test acc: 0.88903\t\tTest loss: 0.30688\t\tValid acc: 0.8573\t\tValid loss: 0.43146\n",
      "Epoch: 23/50\n",
      "Test acc: 0.89028\t\tTest loss: 0.3034\t\tValid acc: 0.8565\t\tValid loss: 0.43725\n",
      "Epoch: 24/50\n",
      "Test acc: 0.89152\t\tTest loss: 0.30133\t\tValid acc: 0.8558\t\tValid loss: 0.45471\n",
      "Epoch: 25/50\n",
      "Test acc: 0.89075\t\tTest loss: 0.30071\t\tValid acc: 0.86\t\tValid loss: 0.44895\n",
      "Epoch: 26/50\n",
      "Test acc: 0.89198\t\tTest loss: 0.29669\t\tValid acc: 0.8592\t\tValid loss: 0.43492\n",
      "Epoch: 27/50\n",
      "Test acc: 0.89252\t\tTest loss: 0.29652\t\tValid acc: 0.8574\t\tValid loss: 0.44827\n",
      "Epoch: 28/50\n",
      "Test acc: 0.89447\t\tTest loss: 0.29408\t\tValid acc: 0.8587\t\tValid loss: 0.44038\n",
      "Epoch: 29/50\n",
      "Test acc: 0.89535\t\tTest loss: 0.28925\t\tValid acc: 0.8541\t\tValid loss: 0.45101\n",
      "Epoch: 30/50\n",
      "Test acc: 0.89472\t\tTest loss: 0.29239\t\tValid acc: 0.8546\t\tValid loss: 0.4556\n",
      "Epoch: 31/50\n",
      "Test acc: 0.89507\t\tTest loss: 0.29143\t\tValid acc: 0.8609\t\tValid loss: 0.4517\n",
      "Epoch: 32/50\n",
      "Test acc: 0.89498\t\tTest loss: 0.2873\t\tValid acc: 0.8633\t\tValid loss: 0.42995\n",
      "Epoch: 33/50\n",
      "Test acc: 0.89575\t\tTest loss: 0.2875\t\tValid acc: 0.858\t\tValid loss: 0.44164\n",
      "Epoch: 34/50\n",
      "Test acc: 0.89722\t\tTest loss: 0.28551\t\tValid acc: 0.8585\t\tValid loss: 0.44248\n",
      "Epoch: 35/50\n",
      "Test acc: 0.89757\t\tTest loss: 0.28382\t\tValid acc: 0.8573\t\tValid loss: 0.44464\n",
      "Epoch: 36/50\n",
      "Test acc: 0.89722\t\tTest loss: 0.28439\t\tValid acc: 0.8613\t\tValid loss: 0.44767\n",
      "Epoch: 37/50\n",
      "Test acc: 0.89733\t\tTest loss: 0.28308\t\tValid acc: 0.8545\t\tValid loss: 0.46467\n",
      "Epoch: 38/50\n",
      "Test acc: 0.89858\t\tTest loss: 0.27859\t\tValid acc: 0.859\t\tValid loss: 0.44978\n",
      "Epoch: 39/50\n",
      "Test acc: 0.89962\t\tTest loss: 0.27834\t\tValid acc: 0.8589\t\tValid loss: 0.45837\n",
      "Epoch: 40/50\n",
      "Test acc: 0.89858\t\tTest loss: 0.2792\t\tValid acc: 0.8582\t\tValid loss: 0.45562\n",
      "Epoch: 41/50\n",
      "Test acc: 0.90013\t\tTest loss: 0.27517\t\tValid acc: 0.8565\t\tValid loss: 0.47749\n",
      "Epoch: 42/50\n",
      "Test acc: 0.89942\t\tTest loss: 0.27711\t\tValid acc: 0.8621\t\tValid loss: 0.46465\n",
      "Epoch: 43/50\n",
      "Test acc: 0.8999\t\tTest loss: 0.27609\t\tValid acc: 0.8597\t\tValid loss: 0.4659\n",
      "Epoch: 44/50\n",
      "Test acc: 0.90187\t\tTest loss: 0.27326\t\tValid acc: 0.8559\t\tValid loss: 0.47162\n",
      "Epoch: 45/50\n",
      "Test acc: 0.90195\t\tTest loss: 0.27259\t\tValid acc: 0.8602\t\tValid loss: 0.47981\n",
      "Epoch: 46/50\n",
      "Test acc: 0.90185\t\tTest loss: 0.27036\t\tValid acc: 0.8572\t\tValid loss: 0.49121\n",
      "Epoch: 47/50\n",
      "Test acc: 0.90332\t\tTest loss: 0.26735\t\tValid acc: 0.8583\t\tValid loss: 0.48024\n",
      "Epoch: 48/50\n",
      "Test acc: 0.90307\t\tTest loss: 0.26607\t\tValid acc: 0.8599\t\tValid loss: 0.48239\n",
      "Epoch: 49/50\n",
      "Test acc: 0.90447\t\tTest loss: 0.26675\t\tValid acc: 0.851\t\tValid loss: 0.50684\n",
      "Epoch: 50/50\n",
      "Test acc: 0.90493\t\tTest loss: 0.26468\t\tValid acc: 0.8573\t\tValid loss: 0.48887\n"
     ]
    }
   ],
   "source": [
    "optimizer = tf.optimizers.Adam(LEARNING_RATE)\n",
    "\n",
    "def train_step(inputs, outputs):\n",
    "    \"\"\" \n",
    "    Training step that performs a series of predictions, computed the batch loss, and applies gradients\n",
    "    :param model: TensorFlow model\n",
    "    :param inputs: the series of inputs to perform predictions on\n",
    "    :param outputs: the desired output mapping of the given inputs\n",
    "    :return: 1 if the prediction was correct 0 otherwise, loss\n",
    "    \"\"\"\n",
    "    with tf.GradientTape() as tape:\n",
    "        guess = model(inputs)\n",
    "        current_loss = loss(guess, outputs)\n",
    "        gradients = tape.gradient(current_loss, weights)\n",
    "        optimizer.apply_gradients(zip(gradients, weights))\n",
    "        max_idx = np.argmax(guess)\n",
    "        if max_idx == outputs:\n",
    "            return 1, current_loss\n",
    "        return 0, current_loss\n",
    "\n",
    "def validate():\n",
    "    \"\"\" Executes the validation step of the model and returns the accuracy associated with the\n",
    "    performance of the model \"\"\"\n",
    "    acc = 0\n",
    "    validation_loss = 0\n",
    "    trials = len(x_test)\n",
    "    for ti, tl in zip(x_test, y_test):\n",
    "        guess = model(ti)\n",
    "        validation_loss += loss(guess, tl).numpy()[0]\n",
    "        max_idx = np.argmax(guess)\n",
    "        if max_idx == tl:\n",
    "            acc += 1\n",
    "    return acc/trials, validation_loss/trials\n",
    "\n",
    "def train():\n",
    "    \"\"\" Executes a single training step over all the given images \"\"\"\n",
    "    acc = 0\n",
    "    train_loss = 0\n",
    "    trials = len(x_train)\n",
    "    for ti, tl in zip(x_train, y_train):\n",
    "        correct, curr_loss = train_step(ti, tl)\n",
    "        acc += correct\n",
    "        train_loss += curr_loss.numpy()[0]\n",
    "    return acc/trials, train_loss/trials\n",
    "\n",
    "validations = []\n",
    "valid_losses = []\n",
    "accuracies = []\n",
    "losses = []\n",
    "total = len(x_train)\n",
    "start = datetime.now()\n",
    "for epoch in range(NUM_EPOCHS):\n",
    "    print(\"Epoch: {}/{}\".format(epoch + 1, NUM_EPOCHS))\n",
    "    test_ratio, test_loss_ratio = train()\n",
    "    valid_ratio, valid_loss_ratio = validate()\n",
    "\n",
    "    test_acc = round(test_ratio, SIG_DIGITS)\n",
    "    test_loss = round(test_loss_ratio, SIG_DIGITS)\n",
    "    valid_acc = round(valid_ratio, SIG_DIGITS)\n",
    "    valid_loss = round(valid_loss_ratio, SIG_DIGITS)\n",
    "\n",
    "    accuracies.append((epoch, test_ratio))\n",
    "    losses.append((epoch, test_loss))\n",
    "    validations.append((epoch, valid_ratio))\n",
    "    valid_losses.append((epoch, valid_loss_ratio))\n",
    "\n",
    "    print(\"Test acc: {}\\t\\tTest loss: {}\\t\\tValid acc: {}\\t\\tValid loss: {}\".format(test_acc, test_loss, valid_acc, valid_loss))\n",
    "end = datetime.now()\n",
    "time_delta = (end - start).total_seconds()"
   ]
  },
  {
   "cell_type": "markdown",
   "metadata": {
    "colab_type": "text",
    "id": "LsC6JPRgd7oi"
   },
   "source": [
    "We can plot the loss and accuracy results using matplotlib. Specifically, we can plot the training and validation accuracy together, similar to how TensorFlow reports results. We can do the same for training and validation loss"
   ]
  },
  {
   "cell_type": "code",
   "execution_count": 21,
   "metadata": {
    "colab": {
     "base_uri": "https://localhost:8080/",
     "height": 1000
    },
    "colab_type": "code",
    "id": "7dXuKVzzd-X2",
    "outputId": "7236b7b6-2831-428e-91e7-88676f84c26a"
   },
   "outputs": [
    {
     "data": {
      "image/png": "[encoded data removed]",
      "text/plain": [
       "<Figure size 576x576 with 1 Axes>"
      ]
     },
     "metadata": {
      "tags": []
     },
     "output_type": "display_data"
    },
    {
     "data": {
      "image/png": "[encoded data removed]",
      "text/plain": [
       "<Figure size 576x576 with 1 Axes>"
      ]
     },
     "metadata": {
      "tags": []
     },
     "output_type": "display_data"
    }
   ],
   "source": [
    "def plot(training, validation, train_label=\"\", valid_label=\"\", ylabel=\"\", title=\"\", filename=\"\"):\n",
    "    \"\"\" Creates two plots of the training and validation results (accuracy, loss) \"\"\"\n",
    "    fig = plt.figure(figsize=(8, 8))\n",
    "    train_x, train_y = [], []\n",
    "    for x, y in training:\n",
    "        train_x.append(x)\n",
    "        train_y.append(y)\n",
    "    valid_x, valid_y = [], []\n",
    "    for x, y in validation:\n",
    "        valid_x.append(x)\n",
    "        valid_y.append(y)\n",
    "    plt.title(title)\n",
    "    plt.plot(train_x, train_y, label=train_label)\n",
    "    plt.plot(valid_x, valid_y, label=valid_label)\n",
    "    plt.ylabel(ylabel)\n",
    "    plt.xlabel(\"Epoch\")\n",
    "    plt.legend()\n",
    "    name = \"{}.pdf\".format(filename)\n",
    "    plt.savefig(name, bbox_inches='tight')\n",
    "    files.download(name)\n",
    "\n",
    "plot(accuracies, validations, \n",
    "     train_label=\"Training accuracy\",\n",
    "     valid_label=\"Validation accuracy\",\n",
    "     ylabel=\"Accuracy\",\n",
    "     title=\"Accuracy vs. epoch for training and validation steps\",\n",
    "     filename=\"train_valid_acc\")\n",
    "plot(losses, valid_losses,\n",
    "     train_label=\"Training loss\",\n",
    "     valid_label=\"Validation loss\",\n",
    "     ylabel=\"Loss\",\n",
    "     title=\"Loss vs. epoch for training and validation steps\",\n",
    "     filename=\"train_valid_loss\")"
   ]
  }
 ],
 "metadata": {
  "colab": {
   "collapsed_sections": [],
   "name": "CMPT498_A1_1.ipynb",
   "provenance": []
  },
  "kernelspec": {
   "display_name": "Python 3",
   "language": "python",
   "name": "python3"
  },
  "language_info": {
   "codemirror_mode": {
    "name": "ipython",
    "version": 3
   },
   "file_extension": ".py",
   "mimetype": "text/x-python",
   "name": "python",
   "nbconvert_exporter": "python",
   "pygments_lexer": "ipython3",
   "version": "3.6.4"
  }
 },
 "nbformat": 4,
 "nbformat_minor": 1
}
